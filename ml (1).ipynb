{
 "cells": [
  {
   "cell_type": "code",
   "execution_count": 1,
   "id": "d576519c",
   "metadata": {},
   "outputs": [
    {
     "data": {
      "text/plain": [
       "'C:\\\\Users\\\\prath'"
      ]
     },
     "execution_count": 1,
     "metadata": {},
     "output_type": "execute_result"
    }
   ],
   "source": [
    "import os\n",
    "os.getcwd()"
   ]
  },
  {
   "cell_type": "code",
   "execution_count": 7,
   "id": "bca06196",
   "metadata": {},
   "outputs": [],
   "source": [
    "#THE LIBRARIES TO BE ADDED\n",
    "import os\n",
    "import cv2\n",
    "import numpy as np\n",
    "from PIL import Image, ImageOps\n",
    "import tensorflow as tf\n",
    "from tensorflow import keras\n",
    "from keras.models import Sequential,load_model\n",
    "from keras.layers import Dense, Flatten, Conv2D, MaxPooling2D, Dropout\n",
    "from tensorflow.keras import layers\n",
    "from tensorflow.keras.utils import to_categorical\n",
    "import matplotlib.pyplot as plt\n",
    "from tensorflow.keras.datasets import cifar10\n",
    "\n",
    "(a,b),(c,d)=cifar10.load_data()\n",
    "\n",
    "\n",
    "#Dir_rice=\"D:\\Hackathon\\diseases_dataset\\image data\\test\\Rice\"\n",
    "#Dir_tomato=\"D:\\Hackathon\\diseases_dataset\\image data\\test\\tomato\"\n",
    "#Categ_corn=[\"cercospora leaf spot gray leaf spot\",\"common rust\",\"healthy\",\"northern leaf blight\"]\n",
    "#Categ_rice=[\"BrownSpot\",\"Healthy\",\"Hispa\",\"LeafBlast\"]\n",
    "#Categ_tomato=[\"bacterial spot\",\"early blight\",\"healthy\",\"late blight\",\"leaf mold\",\"septoria leaf spot\"]# HAVE TO ADD MORE AFTER TESTING"
   ]
  },
  {
   "cell_type": "code",
   "execution_count": 43,
   "id": "bea646f6",
   "metadata": {},
   "outputs": [
    {
     "name": "stdout",
     "output_type": "stream",
     "text": [
      "D:\\Hackathon\\diseases_dataset\\image_data\\test\n"
     ]
    }
   ],
   "source": []
  },
  {
   "cell_type": "code",
   "execution_count": 20,
   "id": "3a3cf5c2",
   "metadata": {
    "scrolled": false
   },
   "outputs": [
    {
     "name": "stdout",
     "output_type": "stream",
     "text": [
      "D:\\Hackathon\\diseases_dataset\\image_data\\test\n",
      "[[0.9988708  0.00112918]]\n",
      "[[0.9988708  0.00112918]]\n",
      "[[0.9988708  0.00112918]]\n"
     ]
    }
   ],
   "source": [
    "#_corn=[\"cercospora leaf spot gray leaf spot\",\"common rust\",\"healthy\",\"northern leaf blight\"]\n",
    "#Categ_rice=[\"BrownSpot\",\"Healthy\",\"Hispa\",\"LeafBlast\"]\n",
    "#Categ_tomato=[\"bacterial spot\",\"early blight\",\"healthy\",\"late blight\",\"leaf mold\",\"septoria leaf spot\"]# HAVE TO ADD MORE AFTER TESTING\n",
    "#for ca_rice in Categ_rice:\n",
    "#    path_rice=os.path.join(Dir_corn,ca_rice)\n",
    "#    print(path_rice)\n",
    "\n",
    "Dir = \"D:\\Hackathon\\diseases_dataset\\image_data\\\\test\"\n",
    "print(Dir)\n",
    "    \n",
    "crops=['rice','corn','tomato']   \n",
    "\n",
    "for crop in crops:\n",
    "    \n",
    "    data_path=os.path.join(Dir,crop)\n",
    "    \n",
    "    model = load_model(os.path.join(Dir,'keras_model.h5'),compile=False)\n",
    "\n",
    "    # Create the array of the right shape to feed into the keras model\n",
    "    # The 'length' or number of images you can put into the array is\n",
    "    # determined by the first position in the shape tuple, in this case 1.\n",
    "    data = np.ndarray(shape=(1, 224, 224, 3), dtype=np.float32)\n",
    "    # Replace this with the path to your image\n",
    "    image = Image.open(\"D:\\RiceBlast1.jpg\")\n",
    "    #resize the image to a 224x224 with the same strategy as in TM2:\n",
    "    #resizing the image to be at least 224x224 and then cropping from the center\n",
    "    size = (224, 224)\n",
    "    image = ImageOps.fit(image, size, Image.ANTIALIAS)\n",
    "\n",
    "    #turn the image into a numpy array\n",
    "    image_array = np.asarray(image)\n",
    "    # Normalize the image\n",
    "    normalized_image_array = (image_array.astype(np.float32) / 127.0) - 1\n",
    "    # Load the image into the array\n",
    "    data[0] = normalized_image_array\n",
    "\n",
    "    # run the inference\n",
    "    prediction = model.predict(data)\n",
    "    print(prediction)"
   ]
  },
  {
   "cell_type": "code",
   "execution_count": 19,
   "id": "1f794396",
   "metadata": {},
   "outputs": [
    {
     "data": {
      "text/plain": [
       "array([[[[-7.40196251e-37,  5.98354444e-43, -1.20182910e-34],\n",
       "         [ 5.98354444e-43,  9.44881916e-01,  9.84251976e-01],\n",
       "         [ 9.52755928e-01,  9.60629940e-01,  1.00787401e+00],\n",
       "         ...,\n",
       "         [ 3.18326354e-02, -4.59266827e-03, -3.60722803e-02],\n",
       "         [-3.82615179e-02, -8.11195374e-03,  5.51971942e-02],\n",
       "         [-4.74118516e-02,  2.12092400e-02,  3.84388342e-02]],\n",
       "\n",
       "        [[-2.62649581e-02,  1.77000090e-02,  5.03588021e-02],\n",
       "         [-4.44686152e-02,  2.13090330e-02,  1.99779347e-02],\n",
       "         [ 3.06644514e-02, -4.27210405e-02,  4.79242653e-02],\n",
       "         ...,\n",
       "         [ 4.20905277e-02,  4.60239053e-02,  3.58579606e-02],\n",
       "         [-4.27402332e-02,  5.14872372e-03,  1.55236199e-02],\n",
       "         [ 2.35877112e-02, -4.98312339e-02,  8.77879560e-03]],\n",
       "\n",
       "        [[ 5.99441975e-02, -6.06444031e-02,  3.28924507e-03],\n",
       "         [ 3.57077569e-02,  8.14609230e-03,  2.48131901e-02],\n",
       "         [-6.13881834e-02, -2.91555561e-02, -2.08866671e-02],\n",
       "         ...,\n",
       "         [ 3.83451208e-02, -4.82564569e-02, -2.58268937e-02],\n",
       "         [ 9.97297466e-04,  3.47390994e-02,  1.92429945e-02],\n",
       "         [ 3.08338329e-02,  8.02639127e-03, -1.95357949e-03]],\n",
       "\n",
       "        ...,\n",
       "\n",
       "        [[ 4.99863103e-02, -5.87823382e-03,  2.77282801e-02],\n",
       "         [ 1.12214103e-01,  1.06016740e-01,  1.76214669e-02],\n",
       "         [-1.57308087e-01,  3.75364013e-02,  3.19581516e-02],\n",
       "         ...,\n",
       "         [-1.09128165e-03,  1.43447891e-02,  1.89179822e-03],\n",
       "         [ 1.06755048e-01, -4.23628986e-02, -3.41540459e-03],\n",
       "         [-7.00708628e-02,  7.41131902e-02, -3.63773815e-02]],\n",
       "\n",
       "        [[ 3.01247425e-02,  1.05145238e-02, -5.68845943e-02],\n",
       "         [ 5.27268313e-02, -4.11079414e-02, -6.51864409e-02],\n",
       "         [ 4.34310474e-02, -3.75167429e-02, -3.63173112e-02],\n",
       "         ...,\n",
       "         [-2.20095571e-02, -2.26311348e-02,  7.41591752e-02],\n",
       "         [ 9.95371118e-02,  4.41331118e-02, -1.09837770e-01],\n",
       "         [ 3.26873362e-02,  6.41369224e-02,  5.29101007e-02]],\n",
       "\n",
       "        [[-6.25352487e-02,  1.17063619e-01, -1.27524570e-01],\n",
       "         [ 7.59477764e-02, -5.29331490e-02, -6.07097484e-02],\n",
       "         [-9.77374241e-02, -9.14863274e-02, -1.72303356e-02],\n",
       "         ...,\n",
       "         [ 9.51037407e-02,  7.06725195e-02,  5.76840639e-02],\n",
       "         [ 1.12141944e-01, -5.96544147e-03,  2.01081689e-02],\n",
       "         [-2.35426966e-02, -6.78412989e-02,  9.29653347e-02]]]],\n",
       "      dtype=float32)"
      ]
     },
     "execution_count": 19,
     "metadata": {},
     "output_type": "execute_result"
    }
   ],
   "source": [
    "data\n"
   ]
  },
  {
   "cell_type": "code",
   "execution_count": null,
   "id": "aeec8cf5",
   "metadata": {},
   "outputs": [],
   "source": []
  }
 ],
 "metadata": {
  "kernelspec": {
   "display_name": "Python 3 (ipykernel)",
   "language": "python",
   "name": "python3"
  },
  "language_info": {
   "codemirror_mode": {
    "name": "ipython",
    "version": 3
   },
   "file_extension": ".py",
   "mimetype": "text/x-python",
   "name": "python",
   "nbconvert_exporter": "python",
   "pygments_lexer": "ipython3",
   "version": "3.9.7"
  }
 },
 "nbformat": 4,
 "nbformat_minor": 5
}
